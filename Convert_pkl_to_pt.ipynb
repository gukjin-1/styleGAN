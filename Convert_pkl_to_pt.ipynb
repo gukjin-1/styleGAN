{
  "nbformat": 4,
  "nbformat_minor": 0,
  "metadata": {
    "colab": {
      "name": "Convert_pkl_to_pt.ipynb",
      "provenance": [],
      "machine_shape": "hm",
      "collapsed_sections": []
    },
    "kernelspec": {
      "name": "python3",
      "display_name": "Python 3"
    },
    "accelerator": "GPU",
    "gpuClass": "standard"
  },
  "cells": [
    {
      "cell_type": "code",
      "source": [
        "#gpu 켜야 돌아갑니다!"
      ],
      "metadata": {
        "id": "QkltXjBYXjHd"
      },
      "execution_count": null,
      "outputs": []
    },
    {
      "cell_type": "code",
      "source": [
        "!nvidia-smi -L"
      ],
      "metadata": {
        "colab": {
          "base_uri": "https://localhost:8080/"
        },
        "id": "Wi-EomDpE0JZ",
        "outputId": "d66cb092-cda1-4fc5-fcb9-aecb0c2cd73b"
      },
      "execution_count": 1,
      "outputs": [
        {
          "output_type": "stream",
          "name": "stdout",
          "text": [
            "GPU 0: Tesla P100-PCIE-16GB (UUID: GPU-37688a17-2334-9a1e-07af-2bf3d0b999df)\n"
          ]
        }
      ]
    },
    {
      "cell_type": "code",
      "source": [
        "!git clone https://github.com/dvschultz/stylegan2-ada-pytorch/\n",
        "!git clone https://github.com/rosinality/stylegan2-pytorch\n",
        "!pip install ninja"
      ],
      "metadata": {
        "colab": {
          "base_uri": "https://localhost:8080/"
        },
        "id": "zpVgtKENE7DN",
        "outputId": "6f034f8a-5a57-4705-a5d4-af5d256a0563"
      },
      "execution_count": 2,
      "outputs": [
        {
          "output_type": "stream",
          "name": "stdout",
          "text": [
            "Cloning into 'stylegan2-ada-pytorch'...\n",
            "remote: Enumerating objects: 533, done.\u001b[K\n",
            "remote: Total 533 (delta 0), reused 0 (delta 0), pack-reused 533\u001b[K\n",
            "Receiving objects: 100% (533/533), 8.41 MiB | 23.59 MiB/s, done.\n",
            "Resolving deltas: 100% (304/304), done.\n",
            "Cloning into 'stylegan2-pytorch'...\n",
            "remote: Enumerating objects: 395, done.\u001b[K\n",
            "remote: Total 395 (delta 0), reused 0 (delta 0), pack-reused 395\u001b[K\n",
            "Receiving objects: 100% (395/395), 122.51 MiB | 24.40 MiB/s, done.\n",
            "Resolving deltas: 100% (205/205), done.\n",
            "Looking in indexes: https://pypi.org/simple, https://us-python.pkg.dev/colab-wheels/public/simple/\n",
            "Collecting ninja\n",
            "  Downloading ninja-1.10.2.3-py2.py3-none-manylinux_2_5_x86_64.manylinux1_x86_64.whl (108 kB)\n",
            "\u001b[K     |████████████████████████████████| 108 kB 15.1 MB/s \n",
            "\u001b[?25hInstalling collected packages: ninja\n",
            "Successfully installed ninja-1.10.2.3\n"
          ]
        }
      ]
    },
    {
      "cell_type": "code",
      "source": [
        "%cd /content\n",
        "!gdown --id 10_et4IeWmzUqqjQQjIquL_U3r8tBsd5T"
      ],
      "metadata": {
        "colab": {
          "base_uri": "https://localhost:8080/"
        },
        "id": "bO4hFkWDE82p",
        "outputId": "fc7e4c73-6762-4ca5-d4c7-cdaa5748ba61"
      },
      "execution_count": 3,
      "outputs": [
        {
          "output_type": "stream",
          "name": "stdout",
          "text": [
            "/content\n",
            "/usr/local/lib/python3.7/dist-packages/gdown/cli.py:131: FutureWarning: Option `--id` was deprecated in version 4.3.1 and will be removed in 5.0. You don't need to pass it anymore to use a file ID.\n",
            "  category=FutureWarning,\n",
            "Downloading...\n",
            "From: https://drive.google.com/uc?id=10_et4IeWmzUqqjQQjIquL_U3r8tBsd5T\n",
            "To: /content/network-snapshot-000040.pkl\n",
            "100% 283M/283M [00:01<00:00, 253MB/s]\n"
          ]
        }
      ]
    },
    {
      "cell_type": "code",
      "source": [
        "%cd /content/stylegan2-ada-pytorch/"
      ],
      "metadata": {
        "colab": {
          "base_uri": "https://localhost:8080/"
        },
        "id": "Y8JDoAbcFD21",
        "outputId": "ddd35ad1-cb2c-443f-be3f-cba53415d686"
      },
      "execution_count": 4,
      "outputs": [
        {
          "output_type": "stream",
          "name": "stdout",
          "text": [
            "/content/stylegan2-ada-pytorch\n"
          ]
        }
      ]
    },
    {
      "cell_type": "code",
      "source": [
        "!python export_weights.py /content/network-snapshot-000040.pkl /content/network-snapshot-000040.pt"
      ],
      "metadata": {
        "id": "Y6Yga4CDFIn8"
      },
      "execution_count": 5,
      "outputs": []
    }
  ]
}