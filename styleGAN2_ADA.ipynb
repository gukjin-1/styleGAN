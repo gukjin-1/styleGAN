{
  "nbformat": 4,
  "nbformat_minor": 0,
  "metadata": {
    "colab": {
      "name": "styleGAN2-ADA.ipynb",
      "provenance": []
    },
    "kernelspec": {
      "name": "python3",
      "display_name": "Python 3"
    },
    "language_info": {
      "name": "python"
    }
  },
  "cells": [
    {
      "cell_type": "markdown",
      "source": [
        "## 학습~ 이미지 생성입니다\n",
        "#### 경로 설정은 따로 잘해주세요"
      ],
      "metadata": {
        "id": "pGCC4Ez0oUWo"
      }
    },
    {
      "cell_type": "code",
      "execution_count": null,
      "metadata": {
        "id": "t1JwnGseiZOk"
      },
      "outputs": [],
      "source": [
        "# styleGAN2 - ADA 모델은 텐서플로우 1버전에서만 작동\n",
        "%tensorflow_version 1.x"
      ]
    },
    {
      "cell_type": "code",
      "source": [
        "from google.colab import drive\n",
        "drive.mount('/content/drive')"
      ],
      "metadata": {
        "id": "tWVELMIeiwhi"
      },
      "execution_count": null,
      "outputs": []
    },
    {
      "cell_type": "code",
      "source": [
        "# 코드 다운로드\n",
        "%cd /content/\n",
        "!git clone https://github.com/dvschultz/stylegan2-ada.git\n",
        "!mkdir downloads\n",
        "!mkdir datasets"
      ],
      "metadata": {
        "id": "j1yloVzUixCY"
      },
      "execution_count": null,
      "outputs": []
    },
    {
      "cell_type": "code",
      "source": [
        "# 포케못 이미지 데이터\n",
        "https://www.kaggle.com/kvpratama/pokemon-images-dataset"
      ],
      "metadata": {
        "id": "vEA-dJ73jKDD"
      },
      "execution_count": null,
      "outputs": []
    },
    {
      "cell_type": "code",
      "source": [
        "dataset_name = \"pokemon-256\""
      ],
      "metadata": {
        "id": "6CQp2zEyjS_j"
      },
      "execution_count": null,
      "outputs": []
    },
    {
      "cell_type": "code",
      "source": [
        "# 압축파일해제\n",
        "import zipfile\n",
        "path = \"/content/drive/MyDrive/last_project/stylegan/\"\n",
        "dataset = dataset_name + \".zip\"\n",
        "local_path = \"/content/\"\n",
        "file_name = path + dataset\n",
        "with zipfile.ZipFile(file_name, 'r') as zip:\n",
        "   #zip.printdir()\n",
        "   print('Extracting all the files now...') \n",
        "   zip.extractall(local_path) \n",
        "   print('Done!')"
      ],
      "metadata": {
        "id": "czY0W3_gjVLB"
      },
      "execution_count": null,
      "outputs": []
    },
    {
      "cell_type": "code",
      "source": [
        "# 리사이즈\n",
        "# 포케못 가져오신거면 이거 안돌려도됩니당\n",
        "import os\n",
        "import glob\n",
        "from PIL import Image\n",
        "\n",
        "files = glob.glob('/content/pokemon-256/*.jpg')\n",
        "\n",
        "for f in files:\n",
        "    img = Image.open(f)\n",
        "    img = img.convert('RGB')\n",
        "    img_resize = img.resize((int(256), int(256)))\n",
        "    title, ext = os.path.splitext(f)\n",
        "    img_resize.save(title + ext)\n",
        "\n"
      ],
      "metadata": {
        "id": "SUfT-A80jYXv"
      },
      "execution_count": null,
      "outputs": []
    },
    {
      "cell_type": "code",
      "source": [
        "# 불러온 이미지들을 텐서플로우에서 사용할 수 있게 포맷(tfrecords)형식으로 변환\n",
        "%cd /content/\n",
        "\n",
        "#update this to the path to your image folder\n",
        "dataset_folder_name = 'pokemon_jpg/pokemon_jpg' # name of zip file may be different from folder name it extracted to\n",
        "dataset_path = \"/content/\" + dataset_folder_name\n",
        "\n",
        "#you don't need to edit anything here\n",
        "%cd /content/stylegan2-ada\n",
        "!python dataset_tool.py create_from_images /content/datasets/{dataset_name} {dataset_path}"
      ],
      "metadata": {
        "id": "FoofcvkWkYbp"
      },
      "execution_count": null,
      "outputs": []
    },
    {
      "cell_type": "code",
      "source": [
        "# 파라미터 확인\n",
        "%cd /content/stylegan2-ada\n",
        "!python train.py --help"
      ],
      "metadata": {
        "id": "ASuR3l3Ikmcd"
      },
      "execution_count": null,
      "outputs": []
    },
    {
      "cell_type": "code",
      "source": [
        "# 넘파이 버전이 텐서플로우 버전보다 높아서 학습을 넘파이 1버전으로 안하면 오류뜹니다\n",
        "# 삭제 하시고 다시 재설치\n",
        "!pip uninstall numpy\n",
        "!pip install numpy==1.16.4"
      ],
      "metadata": {
        "id": "bt9Xr688mj_x"
      },
      "execution_count": null,
      "outputs": []
    },
    {
      "cell_type": "code",
      "source": [
        "# 학습시작\n",
        "# tick이 50으로 디폴트 되어있는데 찾아서 설정 하시거나 10개 정도까지 해도 괜찮았습니다\n",
        "# output directory\n",
        "output_dir = '/content/drive/MyDrive/Colab\\ Notebooks/results/' + dataset_name + \"/\"\n",
        "\n",
        "# config\n",
        "config = \"auto\"\n",
        "\n",
        "# gamma\n",
        "gamma = 1\n",
        "\n",
        "#how often should the model generate samples and a .pkl file\n",
        "snapshot_count = 1\n",
        "\n",
        "#should the images be mirrored left to right?\n",
        "mirrored = True\n",
        "#should the images be mirrored top to bottom?\n",
        "mirroredY = False\n",
        "\n",
        "#metrics? \n",
        "metric_list = None\n",
        "#\n",
        "# this is the most important cell to update\n",
        "#\n",
        "# running it for the first time? set it to ffhq(+resolution)\n",
        "# resuming? get the path to your latest .pkl file and use that\n",
        "resume_from = \"ffhq256\" # 파라미터를 확인 해보시면 알겠지만 사진 사이즈에 따라 값 변경해줘야하는것 같습니다\n",
        "\n",
        "# make sure there is no space in the resume path. if there is any, use a backslash character to escape\n",
        "# resume_from = '/content/drive/MyDrive/Colab\\ Notebooks/results/pokemon-256/00001-pokemon-256-mirror-auto1-gamma1-resumecustom/network-snapshot-000036.pkl'\n",
        "\n",
        "#don't edit this unless you know what you're doing :)\n",
        "!python train.py --outdir={output_dir} \\\n",
        "                 --cfg={config} \\\n",
        "                 --snap={snapshot_count} \\\n",
        "                 --data=/content/datasets/{dataset_name} \\\n",
        "                 --mirror={mirrored} --mirrory={mirroredY} \\\n",
        "                 --gamma={gamma} \\\n",
        "                 --metrics={metric_list} \\\n",
        "                 --resume={resume_from}"
      ],
      "metadata": {
        "id": "JesdmGBVksNT"
      },
      "execution_count": null,
      "outputs": []
    },
    {
      "cell_type": "code",
      "source": [
        "import cv2\n",
        "from os import listdir\n",
        "from os.path import isfile, join\n",
        "from google.colab import files\n",
        "from PIL import Image, ImageDraw\n",
        "import numpy as np\n",
        "from tqdm import tqdm\n",
        "import imageio\n",
        "import os"
      ],
      "metadata": {
        "id": "gTnFmZEslOoK"
      },
      "execution_count": null,
      "outputs": []
    },
    {
      "cell_type": "code",
      "source": [
        "#result_path를 학습 과정 이미지들을 저장한 폴더 경로 바꿔주기\n",
        "# choose where you've saved results\n",
        "# result_path = '/content/drive/MyDrive/Colab Notebooks/results/pokemon-256/00001-pokemon-256-mirror-auto1-gamma1-resumecustom/'\n",
        "result_path = '/content/drive/MyDrive/last_project/stylegan/pokemon-256/00000-pokemon-256-mirror-auto1-gamma1-resumeffhq256/'\n",
        "image_files = [f for f in listdir(result_path)]\n",
        "image_files = [f for f in image_files if '.jpg' in f]\n",
        "\n",
        "image_files.sort()\n",
        "\n",
        "print(image_files)"
      ],
      "metadata": {
        "id": "TOecq2f7lQEL"
      },
      "execution_count": null,
      "outputs": []
    },
    {
      "cell_type": "code",
      "source": [
        "images = []\n",
        "\n",
        "# change settings width, width_images, height, height_images\n",
        "width = 256\n",
        "width_images = 8\n",
        "width_offset = 0 * width\n",
        "end_width = max(1920, width_images * width) \n",
        "\n",
        "height = 256\n",
        "height_images = 4\n",
        "height_offset = 0 * height\n",
        "end_height = max(1280, height_images * height)\n",
        "\n",
        "\n",
        "for f in tqdm(image_files[:]):\n",
        "  name = \"{}{}\".format(result_path, f)\n",
        "  print(name)\n",
        "  img = Image.open(name)\n",
        "  img = img.crop((0, 0, end_width+ width_offset, end_height + height_offset))\n",
        "  img = img.resize((1920,1080))\n",
        "  images.append(img)"
      ],
      "metadata": {
        "id": "OecHikjilaYA"
      },
      "execution_count": null,
      "outputs": []
    },
    {
      "cell_type": "code",
      "source": [
        "# video file 저장할 폴더 생성\n",
        "try:\n",
        "  os.mkdir(\"/content/out/\")\n",
        "except:\n",
        "  pass"
      ],
      "metadata": {
        "id": "UZofKsQrlcwO"
      },
      "execution_count": null,
      "outputs": []
    },
    {
      "cell_type": "code",
      "source": [
        "# change path to where you want to save video\n",
        "video_output_path = '/content/out/'\n",
        "video_name = 'timelapse_movie.mp4'\n",
        "movie_name = video_output_path + video_name\n",
        "\n",
        "with imageio.get_writer(movie_name, mode='I') as writer:\n",
        "    for image in tqdm(list(images)):\n",
        "        writer.append_data(np.array(image))"
      ],
      "metadata": {
        "id": "ZeJYFB-Xli8F"
      },
      "execution_count": null,
      "outputs": []
    },
    {
      "cell_type": "code",
      "source": [
        "#영상 다운받고싶으시면 다운\n",
        "files.download(movie_name) "
      ],
      "metadata": {
        "id": "tFNeBHIan-lZ"
      },
      "execution_count": null,
      "outputs": []
    },
    {
      "cell_type": "code",
      "source": [
        "%cd /content/stylegan2-ada\n",
        "import argparse\n",
        "import numpy as np\n",
        "import PIL.Image\n",
        "import dnnlib\n",
        "import dnnlib.tflib as tflib\n",
        "import re\n",
        "import sys\n",
        "from io import BytesIO\n",
        "import IPython.display\n",
        "import numpy as np\n",
        "from math import ceil\n",
        "from PIL import Image, ImageDraw\n",
        "import imageio\n",
        "import os\n",
        "import pickle\n",
        "from google.colab import files"
      ],
      "metadata": {
        "id": "Qq1wUshZlm5L"
      },
      "execution_count": null,
      "outputs": []
    },
    {
      "cell_type": "code",
      "source": [
        "# 훈련시킨 모델 pkl 파일 경로를 network_pkl로 지정\n",
        "dnnlib.tflib.init_tf()\n",
        "\n",
        "# change path\n",
        "network_pkl = '/content/drive/MyDrive/last_project/stylegan/pokemon-256/00000-pokemon-256-mirror-auto1-gamma1-resumeffhq256/network-snapshot-000040.pkl'\n",
        " \n",
        "print('Loading networks from \"%s\"...' % network_pkl)\n",
        "with dnnlib.util.open_url(network_pkl) as fp:\n",
        "    _G, _D, Gs = pickle.load(fp)\n",
        "noise_vars = [var for name, var in Gs.components.synthesis.vars.items() if name.startswith('noise')]"
      ],
      "metadata": {
        "id": "wpVlZcG7lrji"
      },
      "execution_count": null,
      "outputs": []
    },
    {
      "cell_type": "code",
      "source": [
        "# 이미지를 생성하는데 필요한 함수 정의\n",
        "def generate_images_in_w_space(dlatents, truncation_psi):\n",
        "    Gs_kwargs = dnnlib.EasyDict()\n",
        "    Gs_kwargs.output_transform = dict(func=tflib.convert_images_to_uint8, nchw_to_nhwc=True)\n",
        "    Gs_kwargs.randomize_noise = False\n",
        "    Gs_kwargs.truncation_psi = truncation_psi\n",
        "    dlatent_avg = Gs.get_var('dlatent_avg') # [component]\n",
        "\n",
        "    imgs = []\n",
        "    for row, dlatent in log_progress(enumerate(dlatents), name = \"Generating images\"):\n",
        "        #row_dlatents = (dlatent[np.newaxis] - dlatent_avg) * np.reshape(truncation_psi, [-1, 1, 1]) + dlatent_avg\n",
        "        dl = (dlatent-dlatent_avg)*truncation_psi   + dlatent_avg\n",
        "        row_images = Gs.components.synthesis.run(dlatent,  **Gs_kwargs)\n",
        "        imgs.append(PIL.Image.fromarray(row_images[0], 'RGB'))\n",
        "    return imgs       \n",
        "\n",
        "def generate_images(zs, truncation_psi):\n",
        "    Gs_kwargs = dnnlib.EasyDict()\n",
        "    Gs_kwargs.output_transform = dict(func=tflib.convert_images_to_uint8, nchw_to_nhwc=True)\n",
        "    Gs_kwargs.randomize_noise = False\n",
        "    if not isinstance(truncation_psi, list):\n",
        "        truncation_psi = [truncation_psi] * len(zs)\n",
        "        \n",
        "    imgs = []\n",
        "    for z_idx, z in log_progress(enumerate(zs), size = len(zs), name = \"Generating images\"):\n",
        "        Gs_kwargs.truncation_psi = truncation_psi[z_idx]\n",
        "        noise_rnd = np.random.RandomState(1) # fix noise\n",
        "        tflib.set_vars({var: noise_rnd.randn(*var.shape.as_list()) for var in noise_vars}) # [height, width]\n",
        "        images = Gs.run(z, None, **Gs_kwargs) # [minibatch, height, width, channel]\n",
        "        imgs.append(PIL.Image.fromarray(images[0], 'RGB'))\n",
        "    return imgs\n",
        "\n",
        "def generate_zs_from_seeds(seeds):\n",
        "    zs = []\n",
        "    for seed_idx, seed in enumerate(seeds):\n",
        "        rnd = np.random.RandomState(seed)\n",
        "        z = rnd.randn(1, *Gs.input_shape[1:]) # [minibatch, component]\n",
        "        zs.append(z)\n",
        "    return zs\n",
        "\n",
        "# Generates a list of images, based on a list of seed for latent vectors (Z), and a list (or a single constant) of truncation_psi's.\n",
        "def generate_images_from_seeds(seeds, truncation_psi):\n",
        "    return generate_images(generate_zs_from_seeds(seeds), truncation_psi)\n",
        "\n",
        "def saveImgs(imgs, location):\n",
        "  for idx, img in log_progress(enumerate(imgs), size = len(imgs), name=\"Saving images\"):\n",
        "    file = location+ str(idx) + \".png\"\n",
        "    img.save(file)\n",
        "\n",
        "def imshow(a, format='png', jpeg_fallback=True):\n",
        "  a = np.asarray(a, dtype=np.uint8)\n",
        "  str_file = BytesIO()\n",
        "  PIL.Image.fromarray(a).save(str_file, format)\n",
        "  im_data = str_file.getvalue()\n",
        "  try:\n",
        "    disp = IPython.display.display(IPython.display.Image(im_data))\n",
        "  except IOError:\n",
        "    if jpeg_fallback and format != 'jpeg':\n",
        "      print ('Warning: image was too large to display in format \"{}\"; '\n",
        "             'trying jpeg instead.').format(format)\n",
        "      return imshow(a, format='jpeg')\n",
        "    else:\n",
        "      raise\n",
        "  return disp\n",
        "\n",
        "def showarray(a, fmt='png'):\n",
        "    a = np.uint8(a)\n",
        "    f = StringIO()\n",
        "    PIL.Image.fromarray(a).save(f, fmt)\n",
        "    IPython.display.display(IPython.display.Image(data=f.getvalue()))\n",
        "\n",
        "        \n",
        "def clamp(x, minimum, maximum):\n",
        "    return max(minimum, min(x, maximum))\n",
        "    \n",
        "def drawLatent(image,latents,x,y,x2,y2, color=(255,0,0,100)):\n",
        "  buffer = PIL.Image.new('RGBA', image.size, (0,0,0,0))\n",
        "   \n",
        "  draw = ImageDraw.Draw(buffer)\n",
        "  cy = (y+y2)/2\n",
        "  draw.rectangle([x,y,x2,y2],fill=(255,255,255,180), outline=(0,0,0,180))\n",
        "  for i in range(len(latents)):\n",
        "    mx = x + (x2-x)*(float(i)/len(latents))\n",
        "    h = (y2-y)*latents[i]*0.1\n",
        "    h = clamp(h,cy-y2,y2-cy)\n",
        "    draw.line((mx,cy,mx,cy+h),fill=color)\n",
        "  return PIL.Image.alpha_composite(image,buffer)\n",
        "             \n",
        "  \n",
        "def createImageGrid(images, scale=0.25, rows=1):\n",
        "   w,h = images[0].size\n",
        "   w = int(w*scale)\n",
        "   h = int(h*scale)\n",
        "   height = rows*h\n",
        "   cols = ceil(len(images) / rows)\n",
        "   width = cols*w\n",
        "   canvas = PIL.Image.new('RGBA', (width,height), 'white')\n",
        "   for i,img in enumerate(images):\n",
        "     img = img.resize((w,h), PIL.Image.ANTIALIAS)\n",
        "     canvas.paste(img, (w*(i % cols), h*(i // cols))) \n",
        "   return canvas\n",
        "\n",
        "def convertZtoW(latent, truncation_psi=0.7, truncation_cutoff=9):\n",
        "  dlatent = Gs.components.mapping.run(latent, None) # [seed, layer, component]\n",
        "  dlatent_avg = Gs.get_var('dlatent_avg') # [component]\n",
        "  for i in range(truncation_cutoff):\n",
        "    dlatent[0][i] = (dlatent[0][i]-dlatent_avg)*truncation_psi + dlatent_avg\n",
        "    \n",
        "  return dlatent\n",
        "\n",
        "def interpolate(zs, steps):\n",
        "   out = []\n",
        "   for i in range(len(zs)-1):\n",
        "    for index in range(steps):\n",
        "     fraction = index/float(steps) \n",
        "     out.append(zs[i+1]*fraction + zs[i]*(1-fraction))\n",
        "   return out\n",
        "\n",
        "# Taken from https://github.com/alexanderkuk/log-progress\n",
        "def log_progress(sequence, every=1, size=None, name='Items'):\n",
        "    from ipywidgets import IntProgress, HTML, VBox\n",
        "    from IPython.display import display\n",
        "\n",
        "    is_iterator = False\n",
        "    if size is None:\n",
        "        try:\n",
        "            size = len(sequence)\n",
        "        except TypeError:\n",
        "            is_iterator = True\n",
        "    if size is not None:\n",
        "        if every is None:\n",
        "            if size <= 200:\n",
        "                every = 1\n",
        "            else:\n",
        "                every = int(size / 200)     # every 0.5%\n",
        "    else:\n",
        "        assert every is not None, 'sequence is iterator, set every'\n",
        "\n",
        "    if is_iterator:\n",
        "        progress = IntProgress(min=0, max=1, value=1)\n",
        "        progress.bar_style = 'info'\n",
        "    else:\n",
        "        progress = IntProgress(min=0, max=size, value=0)\n",
        "    label = HTML()\n",
        "    box = VBox(children=[label, progress])\n",
        "    display(box)\n",
        "\n",
        "    index = 0\n",
        "    try:\n",
        "        for index, record in enumerate(sequence, 1):\n",
        "            if index == 1 or index % every == 0:\n",
        "                if is_iterator:\n",
        "                    label.value = '{name}: {index} / ?'.format(\n",
        "                        name=name,\n",
        "                        index=index\n",
        "                    )\n",
        "                else:\n",
        "                    progress.value = index\n",
        "                    label.value = u'{name}: {index} / {size}'.format(\n",
        "                        name=name,\n",
        "                        index=index,\n",
        "                        size=size\n",
        "                    )\n",
        "            yield record\n",
        "    except:\n",
        "        progress.bar_style = 'danger'\n",
        "        raise\n",
        "    else:\n",
        "        progress.bar_style = 'success'\n",
        "        progress.value = index\n",
        "        label.value = \"{name}: {index}\".format(\n",
        "            name=name,\n",
        "            index=str(index or '?')\n",
        "        )"
      ],
      "metadata": {
        "id": "CTAv4h6Kl022"
      },
      "execution_count": null,
      "outputs": []
    },
    {
      "cell_type": "code",
      "source": [
        "#truncation_psi(0~1) 값 변경해서 이미지 다양하게 조절가능\n",
        "seeds = np.random.randint((2**32 - 1), size=9)\n",
        "imshow(createImageGrid(generate_images_from_seeds(seeds, truncation_psi=0.9), 0.7 , 3))"
      ],
      "metadata": {
        "id": "Yx_91fd9l7Pi"
      },
      "execution_count": null,
      "outputs": []
    },
    {
      "cell_type": "code",
      "source": [
        "# 결과 이미지를 영상으로 만듦\n",
        "video_output_path = '/content/out/'\n",
        "video_name = 'interpolation_movie.mp4'\n",
        "movie_name = video_output_path + video_name"
      ],
      "metadata": {
        "id": "uWJmfT2ZmKfl"
      },
      "execution_count": null,
      "outputs": []
    },
    {
      "cell_type": "code",
      "source": [
        "# number_of_steps와 trunc_psi 값 조절해보세용\n",
        "# interpolate between 10 seeds (last one back to first to loop)\n",
        "number_of_steps = 10\n",
        "trunc_psi = 0.9\n",
        "\n",
        "seeds = list(np.random.randint((2**32) - 1, size=9))\n",
        "seeds = seeds + [seeds[0]]\n",
        "zs = generate_zs_from_seeds(seeds)\n",
        "\n",
        "\n",
        "imgs = generate_images(interpolate(zs,number_of_steps), trunc_psi)\n",
        "\n",
        "with imageio.get_writer(movie_name, mode='I') as writer:\n",
        "    for image in log_progress(list(imgs), name = \"Creating animation\"):\n",
        "        writer.append_data(np.array(image))"
      ],
      "metadata": {
        "id": "-_T56-SQmOxH"
      },
      "execution_count": null,
      "outputs": []
    },
    {
      "cell_type": "code",
      "source": [
        "#영상 다운받고싶으시면 다운\n",
        "files.download(movie_name) "
      ],
      "metadata": {
        "id": "3tscpui8oL7M"
      },
      "execution_count": null,
      "outputs": []
    },
    {
      "cell_type": "code",
      "source": [
        "# project into w space\n",
        "number_of_steps = 10\n",
        "trunc_psi = 0.5\n",
        "\n",
        "video_name = 'interpolation_ws_movie.mp4'\n",
        "movie_name = video_output_path + video_name\n",
        "\n",
        "dls = []\n",
        "for z in zs:\n",
        "  dls.append(convertZtoW(z ,truncation_psi=trunc_psi))\n",
        "\n",
        "imgs = generate_images_in_w_space(interpolate(dls,number_of_steps), trunc_psi)\n",
        "\n",
        "with imageio.get_writer(movie_name, mode='I') as writer:\n",
        "    for image in log_progress(list(imgs), name = \"Creating animation\"):\n",
        "        writer.append_data(np.array(image))"
      ],
      "metadata": {
        "id": "djpzoN9ymXF-"
      },
      "execution_count": null,
      "outputs": []
    },
    {
      "cell_type": "code",
      "source": [
        "#영상 다운받고싶으시면 다운\n",
        "files.download(movie_name) "
      ],
      "metadata": {
        "id": "1z1IW2tfoMqS"
      },
      "execution_count": null,
      "outputs": []
    }
  ]
}