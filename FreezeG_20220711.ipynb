{
  "cells": [
    {
      "cell_type": "code",
      "execution_count": null,
      "metadata": {
        "colab": {
          "base_uri": "https://localhost:8080/"
        },
        "id": "7H7ja_2itPW1",
        "outputId": "0e88de41-2041-4dc1-cdb4-45dccabaf19b"
      },
      "outputs": [
        {
          "name": "stdout",
          "output_type": "stream",
          "text": [
            "Mounted at /content/drive\n"
          ]
        }
      ],
      "source": [
        "from google.colab import drive\n",
        "drive.mount('/content/drive')"
      ]
    },
    {
      "cell_type": "code",
      "execution_count": null,
      "metadata": {
        "colab": {
          "base_uri": "https://localhost:8080/"
        },
        "id": "9nD9WYiO51vM",
        "outputId": "92a39e3a-53a2-400c-85ac-906c49bea625"
      },
      "outputs": [
        {
          "name": "stdout",
          "output_type": "stream",
          "text": [
            "Looking in indexes: https://pypi.org/simple, https://us-python.pkg.dev/colab-wheels/public/simple/\n",
            "Collecting ninja\n",
            "  Downloading ninja-1.10.2.3-py2.py3-none-manylinux_2_5_x86_64.manylinux1_x86_64.whl (108 kB)\n",
            "\u001b[K     |████████████████████████████████| 108 kB 12.2 MB/s \n",
            "\u001b[?25hInstalling collected packages: ninja\n",
            "Successfully installed ninja-1.10.2.3\n"
          ]
        }
      ],
      "source": [
        "!pip install ninja"
      ]
    },
    {
      "cell_type": "code",
      "execution_count": null,
      "metadata": {
        "id": "cJr1QbHT54Qy"
      },
      "outputs": [],
      "source": [
        "import ninja"
      ]
    },
    {
      "cell_type": "code",
      "execution_count": null,
      "metadata": {
        "colab": {
          "base_uri": "https://localhost:8080/"
        },
        "id": "M1q3PCfdtpIb",
        "outputId": "e2d006b0-7834-49b2-cd62-a579112597ce"
      },
      "outputs": [
        {
          "name": "stdout",
          "output_type": "stream",
          "text": [
            "/content/drive/MyDrive/pjh\n"
          ]
        }
      ],
      "source": [
        "%cd /content/drive/MyDrive/pjh"
      ]
    },
    {
      "cell_type": "code",
      "execution_count": null,
      "metadata": {
        "colab": {
          "base_uri": "https://localhost:8080/"
        },
        "id": "T1Nj8ukntQL8",
        "outputId": "c5888dfb-6664-4b23-9163-b9188bd3449c"
      },
      "outputs": [
        {
          "name": "stdout",
          "output_type": "stream",
          "text": [
            "fatal: destination path 'FreezeG' already exists and is not an empty directory.\n"
          ]
        }
      ],
      "source": [
        "!git clone https://github.com/bryandlee/FreezeG.git"
      ]
    },
    {
      "cell_type": "code",
      "execution_count": null,
      "metadata": {
        "colab": {
          "base_uri": "https://localhost:8080/"
        },
        "id": "LcFTRALZ3IMR",
        "outputId": "d77e44b0-591d-4664-db89-d643df5d74f5"
      },
      "outputs": [
        {
          "name": "stdout",
          "output_type": "stream",
          "text": [
            "/content/drive/MyDrive/pjh/FreezeG/stylegan2\n"
          ]
        }
      ],
      "source": [
        "%cd /content/drive/MyDrive/pjh/FreezeG/stylegan2"
      ]
    },
    {
      "cell_type": "code",
      "execution_count": null,
      "metadata": {
        "colab": {
          "base_uri": "https://localhost:8080/"
        },
        "id": "VJ3L6T33tdCV",
        "outputId": "e15f18a8-7165-4293-cf15-3b79b30afe76"
      },
      "outputs": [
        {
          "name": "stdout",
          "output_type": "stream",
          "text": [
            "Make dataset of image sizes: 256\n",
            "1309it [01:31, 14.28it/s]\n"
          ]
        }
      ],
      "source": [
        "!python prepare_data.py --out /content/drive/MyDrive/pjh/lmdb --n_worker 8 --size 256 /content/drive/MyDrive/pjh/content2"
      ]
    },
    {
      "cell_type": "code",
      "execution_count": null,
      "metadata": {
        "colab": {
          "background_save": true,
          "base_uri": "https://localhost:8080/"
        },
        "id": "SNH-JI_r3D3A",
        "outputId": "ac5b721a-2933-4a58-ec5e-e94432a51d51"
      },
      "outputs": [
        {
          "name": "stdout",
          "output_type": "stream",
          "text": [
            "d: 1.7868; g: 11.9621; r1: 0.0002; path: 2.0941; mean path: 0.0144; augment: 0.0000:   0% 0/10000 [00:06<?, ?it/s]/usr/local/lib/python3.7/dist-packages/torchvision/utils.py:64: UserWarning: The parameter 'range' is deprecated since 0.12 and will be removed in 0.14. Please use 'value_range' instead.\n",
            "  \"The parameter 'range' is deprecated since 0.12 and will be removed in 0.14. \"\n",
            "d: 0.3080; g: 2.2046; r1: 0.0262; path: 0.0697; mean path: 0.4326; augment: 0.0000: 100% 10000/10000 [9:09:43<00:00,  3.30s/it]\n"
          ]
        }
      ],
      "source": [
        "!python train.py --iter 10000 --batch 16 /content/drive/MyDrive/pjh/lmdb"
      ]
    },
    {
      "cell_type": "code",
      "execution_count": null,
      "metadata": {
        "colab": {
          "base_uri": "https://localhost:8080/"
        },
        "collapsed": true,
        "id": "zRVDC9Gzwte-",
        "outputId": "142f6176-f9b2-484b-adc4-65dc1e4d87d3"
      },
      "outputs": [
        {
          "name": "stdout",
          "output_type": "stream",
          "text": [
            "/usr/local/lib/python3.7/dist-packages/torch/distributed/launch.py:186: FutureWarning: The module torch.distributed.launch is deprecated\n",
            "and will be removed in future. Use torchrun.\n",
            "Note that --use_env is set by default in torchrun.\n",
            "If your script expects `--local_rank` argument to be set, please\n",
            "change it to read from `os.environ['LOCAL_RANK']` instead. See \n",
            "https://pytorch.org/docs/stable/distributed.html#launch-utility for \n",
            "further instructions\n",
            "\n",
            "  FutureWarning,\n",
            "  0% 0/1000 [17:34<?, ?it/s]\n",
            "Traceback (most recent call last):\n",
            "  File \"train.py\", line 480, in <module>\n",
            "WARNING:torch.distributed.elastic.agent.server.api:Received 2 death signal, shutting down workers\n",
            "WARNING:torch.distributed.elastic.multiprocessing.api:Sending process 5160 closing signal SIGINT\n",
            "  File \"train.py\", line 170, in train\n",
            "    real_img = next(loader)\n",
            "  File \"train.py\", line 60, in sample_data\n",
            "    for batch in loader:\n",
            "  File \"/usr/local/lib/python3.7/dist-packages/torch/utils/data/dataloader.py\", line 530, in __next__\n",
            "    data = self._next_data()\n",
            "  File \"/usr/local/lib/python3.7/dist-packages/torch/utils/data/dataloader.py\", line 569, in _next_data\n",
            "    index = self._next_index()  # may raise StopIteration\n",
            "  File \"/usr/local/lib/python3.7/dist-packages/torch/utils/data/dataloader.py\", line 521, in _next_index\n",
            "    return next(self._sampler_iter)  # may raise StopIteration\n",
            "  File \"/usr/local/lib/python3.7/dist-packages/torch/utils/data/sampler.py\", line 226, in __iter__\n",
            "    for idx in self.sampler:\n",
            "  File \"/usr/local/lib/python3.7/dist-packages/torch/utils/data/sampler.py\", line 110, in __iter__\n",
            "    seed = int(torch.empty((), dtype=torch.int64).random_().item())\n",
            "KeyboardInterrupt\n",
            "Traceback (most recent call last):\n",
            "  File \"/usr/lib/python3.7/runpy.py\", line 193, in _run_module_as_main\n",
            "    \"__main__\", mod_spec)\n",
            "  File \"/usr/lib/python3.7/runpy.py\", line 85, in _run_code\n",
            "    exec(code, run_globals)\n",
            "  File \"/usr/local/lib/python3.7/dist-packages/torch/distributed/launch.py\", line 193, in <module>\n",
            "    main()\n",
            "  File \"/usr/local/lib/python3.7/dist-packages/torch/distributed/launch.py\", line 189, in main\n",
            "    launch(args)\n",
            "  File \"/usr/local/lib/python3.7/dist-packages/torch/distributed/launch.py\", line 174, in launch\n",
            "    run(args)\n",
            "  File \"/usr/local/lib/python3.7/dist-packages/torch/distributed/run.py\", line 718, in run\n",
            "    )(*cmd_args)\n",
            "  File \"/usr/local/lib/python3.7/dist-packages/torch/distributed/launcher/api.py\", line 131, in __call__\n",
            "    return launch_agent(self._config, self._entrypoint, list(args))\n",
            "  File \"/usr/local/lib/python3.7/dist-packages/torch/distributed/launcher/api.py\", line 236, in launch_agent\n",
            "    result = agent.run()\n",
            "  File \"/usr/local/lib/python3.7/dist-packages/torch/distributed/elastic/metrics/api.py\", line 125, in wrapper\n",
            "    result = f(*args, **kwargs)\n",
            "  File \"/usr/local/lib/python3.7/dist-packages/torch/distributed/elastic/agent/server/api.py\", line 709, in run\n",
            "    result = self._invoke_run(role)\n",
            "  File \"/usr/local/lib/python3.7/dist-packages/torch/distributed/elastic/agent/server/api.py\", line 850, in _invoke_run\n",
            "    time.sleep(monitor_interval)\n",
            "  File \"/usr/local/lib/python3.7/dist-packages/torch/distributed/elastic/multiprocessing/api.py\", line 59, in _terminate_process_handler\n",
            "    sigval = signal.Signals(signum)\n",
            "  File \"/usr/lib/python3.7/enum.py\", line 289, in __call__\n",
            "    def __call__(cls, value, names=None, *, module=None, qualname=None, type=None, start=1):\n",
            "  File \"/usr/local/lib/python3.7/dist-packages/torch/distributed/elastic/multiprocessing/api.py\", line 60, in _terminate_process_handler\n",
            "    raise SignalException(f\"Process {os.getpid()} got signal: {sigval}\", sigval=sigval)\n",
            "torch.distributed.elastic.multiprocessing.api.SignalException: Process 5144 got signal: 2\n"
          ]
        }
      ],
      "source": [
        "# !python -m torch.distributed.launch --nproc_per_node=1 --master_port=5000 train.py --iter 1000 --batch 16 /content/drive/MyDrive/pjh/lmdb"
      ]
    },
    {
      "cell_type": "code",
      "execution_count": null,
      "metadata": {
        "colab": {
          "base_uri": "https://localhost:8080/"
        },
        "id": "NJUKAMrS42at",
        "outputId": "f2ee7857-8dac-4175-d398-359f62d90b3b"
      },
      "outputs": [
        {
          "name": "stdout",
          "output_type": "stream",
          "text": [
            "Cloning into 'stylegan2'...\n",
            "remote: Enumerating objects: 138, done.\u001b[K\n",
            "remote: Total 138 (delta 0), reused 0 (delta 0), pack-reused 138\u001b[K\n",
            "Receiving objects: 100% (138/138), 594.91 KiB | 12.66 MiB/s, done.\n",
            "Resolving deltas: 100% (64/64), done.\n"
          ]
        }
      ],
      "source": [
        "!git clone https://github.com/NVlabs/stylegan2"
      ]
    },
    {
      "cell_type": "code",
      "execution_count": null,
      "metadata": {
        "colab": {
          "base_uri": "https://localhost:8080/"
        },
        "id": "XcrGEpiiHaUR",
        "outputId": "ca507fb6-98a5-4753-86ca-c68e322684de"
      },
      "outputs": [
        {
          "name": "stdout",
          "output_type": "stream",
          "text": [
            "WARNING: Tensorflow 1 is deprecated, and support will be removed on August 1, 2022.\n",
            "After that, `%tensorflow_version 1.x` will throw an error.\n",
            "\n",
            "Your notebook should be updated to use Tensorflow 2.\n",
            "See the guide at https://www.tensorflow.org/guide/migrate#migrate-from-tensorflow-1x-to-tensorflow-2.\n",
            "\n",
            "TensorFlow 1.x selected.\n",
            "Setting up TensorFlow plugin \"fused_bias_act.cu\": Preprocessing... Loading... Done.\n",
            "Setting up TensorFlow plugin \"upfirdn_2d.cu\": Preprocessing... Loading... Done.\n",
            "tensor(4.8161e-05, device='cuda:0')\n",
            "/usr/local/lib/python3.7/dist-packages/torchvision/utils.py:64: UserWarning: The parameter 'range' is deprecated since 0.12 and will be removed in 0.14. Please use 'value_range' instead.\n",
            "  \"The parameter 'range' is deprecated since 0.12 and will be removed in 0.14. \"\n"
          ]
        }
      ],
      "source": [
        "%tensorflow_version 1.x\n",
        "!python convert_weight.py --repo ~/stylegan2/checkpoint stylegan2-ffhq-config-f_3.pkl"
      ]
    },
    {
      "cell_type": "code",
      "execution_count": null,
      "metadata": {
        "colab": {
          "base_uri": "https://localhost:8080/"
        },
        "id": "xoDZ_pJ_KaKo",
        "outputId": "1c69c875-4d3b-434e-f187-43c3b601559c"
      },
      "outputs": [
        {
          "name": "stdout",
          "output_type": "stream",
          "text": [
            "\r  0% 0/20 [00:00<?, ?it/s]/usr/local/lib/python3.7/dist-packages/torchvision/utils.py:64: UserWarning: The parameter 'range' is deprecated since 0.12 and will be removed in 0.14. Please use 'value_range' instead.\n",
            "  \"The parameter 'range' is deprecated since 0.12 and will be removed in 0.14. \"\n",
            "100% 20/20 [00:11<00:00,  1.77it/s]\n"
          ]
        }
      ],
      "source": [
        "!python generate.py --sample 1 --pics 20 --ckpt /content/drive/MyDrive/pjh/FreezeG/stylegan2/stylegan2-ffhq-config-f_3.pt"
      ]
    },
    {
      "cell_type": "code",
      "execution_count": null,
      "metadata": {
        "colab": {
          "base_uri": "https://localhost:8080/"
        },
        "id": "qyXo5EO5LDgc",
        "outputId": "8c113fa9-5f9a-4ecb-b73d-0101363689df"
      },
      "outputs": [
        {
          "name": "stdout",
          "output_type": "stream",
          "text": [
            "Setting up Perceptual loss...\n",
            "Downloading: \"https://download.pytorch.org/models/vgg16-397923af.pth\" to /root/.cache/torch/hub/checkpoints/vgg16-397923af.pth\n",
            "100% 528M/528M [00:04<00:00, 114MB/s]\n",
            "Loading model from: /content/drive/MyDrive/pjh/FreezeG/stylegan2/lpips/weights/v0.1/vgg.pth\n",
            "...[net-lin [vgg]] initialized\n",
            "...Done\n",
            "perceptual: 0.3828; noise regularize: 0.0000; mse: 0.5184; lr: 0.0000: 100% 1000/1000 [01:12<00:00, 13.88it/s]\n"
          ]
        }
      ],
      "source": [
        "!python projector.py --ckpt /content/drive/MyDrive/pjh/FreezeG/stylegan2/stylegan2-ffhq-config-f_3.pt --size 256 /content/drive/MyDrive/pjh/FreezeG/stylegan2/target_img/yg.jpg"
      ]
    },
    {
      "cell_type": "code",
      "execution_count": null,
      "metadata": {
        "id": "hhRo7bsnR27K"
      },
      "outputs": [],
      "source": [
        "!python closed_form_factorization.py --out /content/drive/MyDrive/pjh/FreezeG/stylegan2/factor.pt /content/drive/MyDrive/pjh/FreezeG/stylegan2/stylegan2-ffhq-config-f_3.pt"
      ]
    },
    {
      "cell_type": "code",
      "execution_count": null,
      "metadata": {
        "colab": {
          "base_uri": "https://localhost:8080/"
        },
        "id": "ZSOEoM5ZVLQ8",
        "outputId": "46f5c970-fcc2-4e94-c61a-f7468482bbd9"
      },
      "outputs": [
        {
          "name": "stdout",
          "output_type": "stream",
          "text": [
            "tcmalloc: large alloc 1342177280 bytes == 0x32418000 @  0x7f7d8ed0cb6b 0x7f7d8ed2c379 0x7f7cd514d50e 0x7f7cd513f7c2 0x7f7d0f7c5e38 0x7f7d0f233f79 0x7f7d0f2368bf 0x7f7d0f7bd778 0x7f7d0f7b766e 0x7f7d0f7b7e27 0x7f7d0fd73112 0x7f7d0f89886e 0x7f7d0f2ea95d 0x7f7d0fd72a3a 0x7f7d0f886557 0x7f7d0f2e339b 0x7f7d0fd727da 0x7f7d0f85d1d6 0x7f7d1089af18 0x7f7d1089ba66 0x7f7d0f8851e1 0x7f7d0f2e7c49 0x7f7d0fe03022 0x7f7d0fc0828e 0x7f7d8a5df5fc 0x593784 0x548c51 0x51566f 0x593dd7 0x5118f8 0x549576\n",
            "tcmalloc: large alloc 2684354560 bytes == 0x3d8bc000 @  0x7f7d8ed0cb6b 0x7f7d8ed2c379 0x7f7cd514d50e 0x7f7cd513f7c2 0x7f7d0f7c5e38 0x7f7d0f233f79 0x7f7d0f2368bf 0x7f7d0f7bd778 0x7f7d0f7b766e 0x7f7d0f7b7e27 0x7f7d0fd73112 0x7f7d0f89886e 0x7f7d0f2ea95d 0x7f7d0fd72a3a 0x7f7d0f886557 0x7f7d0f2e339b 0x7f7d0fd727da 0x7f7d0f85d1d6 0x7f7d1089af18 0x7f7d1089ba66 0x7f7d0f8851e1 0x7f7d0f2e7c49 0x7f7d0fe03022 0x7f7d0fc0828e 0x7f7d8a5df5fc 0x593784 0x548c51 0x51566f 0x593dd7 0x5118f8 0x549576\n",
            "tcmalloc: large alloc 5368709120 bytes == 0x7f7b50000000 @  0x7f7d8ed0cb6b 0x7f7d8ed2c379 0x7f7cd514d50e 0x7f7cd513f7c2 0x7f7d0f7c5e38 0x7f7d0f233f79 0x7f7d0f2368bf 0x7f7d0f7bd778 0x7f7d0f7b766e 0x7f7d0f7b7e27 0x7f7d0fd73112 0x7f7d0f89886e 0x7f7d0f2ea95d 0x7f7d0fd72a3a 0x7f7d0f886557 0x7f7d0f2e339b 0x7f7d0fd727da 0x7f7d0f85d1d6 0x7f7d1089af18 0x7f7d1089ba66 0x7f7d0f8851e1 0x7f7d0f2e7c49 0x7f7d0fe03022 0x7f7d0fc0828e 0x7f7d8a5df5fc 0x593784 0x548c51 0x51566f 0x593dd7 0x5118f8 0x549576\n",
            "tcmalloc: large alloc 2684354560 bytes == 0x4a6e6000 @  0x7f7d8ed0cb6b 0x7f7d8ed2c379 0x7f7cd514d50e 0x7f7cd513f7c2 0x7f7d0f7c5e38 0x7f7d0f233f79 0x7f7d0f2368bf 0x7f7d0f7bd778 0x7f7d0f7b766e 0x7f7d0f7b7e27 0x7f7d0fd73112 0x7f7d0f89886e 0x7f7d0f2ea95d 0x7f7d0fd72a3a 0x7f7d0f886557 0x7f7d0f2e339b 0x7f7d0fd727da 0x7f7d0f85d1d6 0x7f7d1089af18 0x7f7d1089ba66 0x7f7d0f8851e1 0x7f7d0f2e7c49 0x7f7d0fe03022 0x7f7d0fc0828e 0x7f7d8a5df5fc 0x593784 0x548c51 0x51566f 0x593dd7 0x5118f8 0x549576\n",
            "tcmalloc: large alloc 5368709120 bytes == 0x7f7b50000000 @  0x7f7d8ed0cb6b 0x7f7d8ed2c379 0x7f7cd514d50e 0x7f7cd513f7c2 0x7f7d0f7c5e38 0x7f7d0f233f79 0x7f7d0f2368bf 0x7f7d0f7bd778 0x7f7d0f7b766e 0x7f7d0f7b7e27 0x7f7d0fd73112 0x7f7d0f89886e 0x7f7d0f2ea95d 0x7f7d0fd72a3a 0x7f7d0f886557 0x7f7d0f2e339b 0x7f7d0fd727da 0x7f7d0f85d1d6 0x7f7d1089af18 0x7f7d1089ba66 0x7f7d0f8851e1 0x7f7d0f2e7c49 0x7f7d0fe03022 0x7f7d0fc0828e 0x7f7d8a5df5fc 0x593784 0x548c51 0x51566f 0x593dd7 0x5118f8 0x549576\n",
            "tcmalloc: large alloc 2684354560 bytes == 0x4a6e6000 @  0x7f7d8ed0cb6b 0x7f7d8ed2c379 0x7f7cd514d50e 0x7f7cd513f7c2 0x7f7d0f7c5e38 0x7f7d0f233f79 0x7f7d0f2368bf 0x7f7d0f7bd778 0x7f7d0f7b766e 0x7f7d0f7b7e27 0x7f7d0fd73112 0x7f7d0f89886e 0x7f7d0f2ea95d 0x7f7d0fd72a3a 0x7f7d0f886557 0x7f7d0f2e339b 0x7f7d0fd727da 0x7f7d0f85d1d6 0x7f7d1089af18 0x7f7d1089ba66 0x7f7d0f8851e1 0x7f7d0f2e7c49 0x7f7d0fe03022 0x7f7d0fc0828e 0x7f7d8a5df5fc 0x593784 0x548c51 0x51566f 0x593dd7 0x5118f8 0x549576\n",
            "tcmalloc: large alloc 5368709120 bytes == 0x7f7b50000000 @  0x7f7d8ed0cb6b 0x7f7d8ed2c379 0x7f7cd514d50e 0x7f7cd513f7c2 0x7f7d0f7c5e38 0x7f7d0f233f79 0x7f7d0f2368bf 0x7f7d0f7bd778 0x7f7d0f7b766e 0x7f7d0f7b7e27 0x7f7d0fd73112 0x7f7d0f89886e 0x7f7d0f2ea95d 0x7f7d0fd72a3a 0x7f7d0f886557 0x7f7d0f2e339b 0x7f7d0fd727da 0x7f7d0f85d1d6 0x7f7d1089af18 0x7f7d1089ba66 0x7f7d0f8851e1 0x7f7d0f2e7c49 0x7f7d0fe03022 0x7f7d0fc0828e 0x7f7d8a5df5fc 0x593784 0x548c51 0x51566f 0x593dd7 0x5118f8 0x549576\n",
            "torch.Size([3, 3, 256, 256])\n",
            "/usr/local/lib/python3.7/dist-packages/torchvision/utils.py:64: UserWarning: The parameter 'range' is deprecated since 0.12 and will be removed in 0.14. Please use 'value_range' instead.\n",
            "  \"The parameter 'range' is deprecated since 0.12 and will be removed in 0.14. \"\n",
            "torch.Size([3, 3, 256, 256])\n",
            "torch.Size([3, 3, 256, 256])\n",
            "torch.Size([3, 3, 256, 256])\n",
            "torch.Size([3, 3, 256, 256])\n",
            "torch.Size([3, 3, 256, 256])\n",
            "torch.Size([3, 3, 256, 256])\n",
            "torch.Size([3, 3, 256, 256])\n",
            "torch.Size([3, 3, 256, 256])\n",
            "torch.Size([3, 3, 256, 256])\n"
          ]
        }
      ],
      "source": [
        "!python apply_factor.py --size 256 -i 19 -d 5 -n 10 --ckpt=/content/drive/MyDrive/pjh/FreezeG/stylegan2/stylegan2-ffhq-config-f_3.pt /content/drive/MyDrive/pjh/FreezeG/stylegan2/factor.pt"
      ]
    },
    {
      "cell_type": "code",
      "execution_count": null,
      "metadata": {
        "id": "hpbqwU9qXdHA"
      },
      "outputs": [],
      "source": [
        ""
      ]
    }
  ],
  "metadata": {
    "accelerator": "GPU",
    "colab": {
      "background_execution": "on",
      "collapsed_sections": [],
      "machine_shape": "hm",
      "name": "FreezeG_20220711.ipynb",
      "provenance": []
    },
    "gpuClass": "standard",
    "kernelspec": {
      "display_name": "Python 3",
      "name": "python3"
    },
    "language_info": {
      "name": "python"
    }
  },
  "nbformat": 4,
  "nbformat_minor": 0
}